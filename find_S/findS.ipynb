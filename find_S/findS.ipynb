{
 "cells": [
  {
   "cell_type": "markdown",
   "metadata": {},
   "source": [
    "### Implement and demonstrate the FIND-S Algorithm for finding the most specific hypothesis based on a given set of training data samples"
   ]
  },
  {
   "cell_type": "code",
   "execution_count": 1,
   "metadata": {},
   "outputs": [],
   "source": [
    "import numpy as np"
   ]
  },
  {
   "cell_type": "code",
   "execution_count": 2,
   "metadata": {},
   "outputs": [],
   "source": [
    "def find_S_algorithm(examples):\n",
    "    hypothesis = [None] * (len(examples[0])-1) #initialize hypothesis to most specific hypothesis\n",
    "\n",
    "    for example in examples:\n",
    "        if example[-1] == 'Yes':\n",
    "            for i in range(len(hypothesis)):\n",
    "                if hypothesis[i] == None:\n",
    "                    hypothesis[i] = example[i]\n",
    "                elif hypothesis[i] != example[i]:\n",
    "                    hypothesis[i] = '?'\n",
    "\n",
    "    return hypothesis"
   ]
  },
  {
   "cell_type": "code",
   "execution_count": 3,
   "metadata": {},
   "outputs": [],
   "source": [
    "training_data = [\n",
    "    ['Sunny', 'Warm', 'Normal', 'Strong', 'Warm', 'Same', 'Yes'],\n",
    "    ['Sunny', 'Warm', 'High', 'Strong', 'Warm', 'Same', 'Yes'],\n",
    "    ['Rainy', 'Cold', 'High', 'Strong', 'Warm', 'Change', 'No'],\n",
    "    ['Sunny', 'Warm', 'High', 'Strong', 'Cool', 'Change', 'Yes']\n",
    "] #example training data\n"
   ]
  },
  {
   "cell_type": "code",
   "execution_count": 4,
   "metadata": {},
   "outputs": [
    {
     "name": "stdout",
     "output_type": "stream",
     "text": [
      "The most specific hypothesis is:  ['Sunny', 'Warm', '?', 'Strong', '?', '?']\n"
     ]
    }
   ],
   "source": [
    "#run the Find-S Algorithm\n",
    "hypothesis = find_S_algorithm(training_data)\n",
    "print(\"The most specific hypothesis is: \",hypothesis)"
   ]
  }
 ],
 "metadata": {
  "kernelspec": {
   "display_name": "ee19614",
   "language": "python",
   "name": "python3"
  },
  "language_info": {
   "codemirror_mode": {
    "name": "ipython",
    "version": 3
   },
   "file_extension": ".py",
   "mimetype": "text/x-python",
   "name": "python",
   "nbconvert_exporter": "python",
   "pygments_lexer": "ipython3",
   "version": "3.13.2"
  }
 },
 "nbformat": 4,
 "nbformat_minor": 2
}
