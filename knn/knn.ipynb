{
 "cells": [
  {
   "cell_type": "code",
   "execution_count": 13,
   "metadata": {},
   "outputs": [],
   "source": [
    "import numpy as np\n",
    "import pandas as pd\n",
    "from sklearn.model_selection import train_test_split\n",
    "from sklearn.metrics import accuracy_score\n",
    "from sklearn.neighbors import KNeighborsClassifier\n",
    "import matplotlib.pyplot as plt\n",
    "from mlxtend.plotting import plot_decision_regions"
   ]
  },
  {
   "cell_type": "code",
   "execution_count": 14,
   "metadata": {},
   "outputs": [
    {
     "data": {
      "text/html": [
       "<div>\n",
       "<style scoped>\n",
       "    .dataframe tbody tr th:only-of-type {\n",
       "        vertical-align: middle;\n",
       "    }\n",
       "\n",
       "    .dataframe tbody tr th {\n",
       "        vertical-align: top;\n",
       "    }\n",
       "\n",
       "    .dataframe thead th {\n",
       "        text-align: right;\n",
       "    }\n",
       "</style>\n",
       "<table border=\"1\" class=\"dataframe\">\n",
       "  <thead>\n",
       "    <tr style=\"text-align: right;\">\n",
       "      <th></th>\n",
       "      <th>Height(CM)</th>\n",
       "      <th>Weight(KG)</th>\n",
       "      <th>Class</th>\n",
       "    </tr>\n",
       "  </thead>\n",
       "  <tbody>\n",
       "    <tr>\n",
       "      <th>0</th>\n",
       "      <td>188</td>\n",
       "      <td>67</td>\n",
       "      <td>0</td>\n",
       "    </tr>\n",
       "    <tr>\n",
       "      <th>1</th>\n",
       "      <td>178</td>\n",
       "      <td>44</td>\n",
       "      <td>0</td>\n",
       "    </tr>\n",
       "    <tr>\n",
       "      <th>2</th>\n",
       "      <td>164</td>\n",
       "      <td>86</td>\n",
       "      <td>1</td>\n",
       "    </tr>\n",
       "    <tr>\n",
       "      <th>3</th>\n",
       "      <td>192</td>\n",
       "      <td>88</td>\n",
       "      <td>0</td>\n",
       "    </tr>\n",
       "    <tr>\n",
       "      <th>4</th>\n",
       "      <td>157</td>\n",
       "      <td>69</td>\n",
       "      <td>1</td>\n",
       "    </tr>\n",
       "  </tbody>\n",
       "</table>\n",
       "</div>"
      ],
      "text/plain": [
       "   Height(CM)  Weight(KG)  Class\n",
       "0         188          67      0\n",
       "1         178          44      0\n",
       "2         164          86      1\n",
       "3         192          88      0\n",
       "4         157          69      1"
      ]
     },
     "execution_count": 14,
     "metadata": {},
     "output_type": "execute_result"
    }
   ],
   "source": [
    "df = pd.read_excel(\"./KNNdataset.xlsx\")\n",
    "df.head()"
   ]
  },
  {
   "cell_type": "code",
   "execution_count": 15,
   "metadata": {},
   "outputs": [],
   "source": [
    "X = df[[\"Height(CM)\", \"Weight(KG)\"]]\n",
    "y = df['Class']\n",
    "x_train, x_test, y_train, y_test = train_test_split(X, y, test_size=0.2, random_state=42)"
   ]
  },
  {
   "cell_type": "code",
   "execution_count": 16,
   "metadata": {},
   "outputs": [
    {
     "name": "stdout",
     "output_type": "stream",
     "text": [
      "Accuracy:  0.95\n"
     ]
    }
   ],
   "source": [
    "knn = KNeighborsClassifier(n_neighbors=5)\n",
    "knn.fit(x_train, y_train)\n",
    "y_pred = knn.predict(x_test)\n",
    "print(\"Accuracy: \", accuracy_score(y_test, y_pred))"
   ]
  },
  {
   "cell_type": "code",
   "execution_count": 17,
   "metadata": {},
   "outputs": [
    {
     "name": "stdout",
     "output_type": "stream",
     "text": [
      "Test Data:  Height(CM)    166\n",
      "Weight(KG)     72\n",
      "Name: 62, dtype: int64 | True Label:  1 | Predicted Class:  1\n",
      "Correctly classified\n",
      "Test Data:  Height(CM)    200\n",
      "Weight(KG)     55\n",
      "Name: 40, dtype: int64 | True Label:  0 | Predicted Class:  0\n",
      "Correctly classified\n",
      "Test Data:  Height(CM)    190\n",
      "Weight(KG)     68\n",
      "Name: 95, dtype: int64 | True Label:  0 | Predicted Class:  0\n",
      "Correctly classified\n",
      "Test Data:  Height(CM)    173\n",
      "Weight(KG)     76\n",
      "Name: 18, dtype: int64 | True Label:  1 | Predicted Class:  0\n",
      "Missclassified\n",
      "Test Data:  Height(CM)    164\n",
      "Weight(KG)     75\n",
      "Name: 97, dtype: int64 | True Label:  1 | Predicted Class:  1\n",
      "Correctly classified\n",
      "Test Data:  Height(CM)    172\n",
      "Weight(KG)     65\n",
      "Name: 84, dtype: int64 | True Label:  0 | Predicted Class:  0\n",
      "Correctly classified\n",
      "Test Data:  Height(CM)    199\n",
      "Weight(KG)     49\n",
      "Name: 64, dtype: int64 | True Label:  0 | Predicted Class:  0\n",
      "Correctly classified\n",
      "Test Data:  Height(CM)    170\n",
      "Weight(KG)     41\n",
      "Name: 42, dtype: int64 | True Label:  0 | Predicted Class:  0\n",
      "Correctly classified\n",
      "Test Data:  Height(CM)    160\n",
      "Weight(KG)     65\n",
      "Name: 10, dtype: int64 | True Label:  1 | Predicted Class:  1\n",
      "Correctly classified\n",
      "Test Data:  Height(CM)    188\n",
      "Weight(KG)     67\n",
      "Name: 0, dtype: int64 | True Label:  0 | Predicted Class:  0\n",
      "Correctly classified\n",
      "Test Data:  Height(CM)    191\n",
      "Weight(KG)     97\n",
      "Name: 31, dtype: int64 | True Label:  1 | Predicted Class:  1\n",
      "Correctly classified\n",
      "Test Data:  Height(CM)    159\n",
      "Weight(KG)     74\n",
      "Name: 76, dtype: int64 | True Label:  1 | Predicted Class:  1\n",
      "Correctly classified\n",
      "Test Data:  Height(CM)    174\n",
      "Weight(KG)     59\n",
      "Name: 47, dtype: int64 | True Label:  0 | Predicted Class:  0\n",
      "Correctly classified\n",
      "Test Data:  Height(CM)    171\n",
      "Weight(KG)     91\n",
      "Name: 26, dtype: int64 | True Label:  1 | Predicted Class:  1\n",
      "Correctly classified\n",
      "Test Data:  Height(CM)    188\n",
      "Weight(KG)     67\n",
      "Name: 44, dtype: int64 | True Label:  0 | Predicted Class:  0\n",
      "Correctly classified\n",
      "Test Data:  Height(CM)    157\n",
      "Weight(KG)     69\n",
      "Name: 4, dtype: int64 | True Label:  1 | Predicted Class:  1\n",
      "Correctly classified\n",
      "Test Data:  Height(CM)    151\n",
      "Weight(KG)     93\n",
      "Name: 22, dtype: int64 | True Label:  1 | Predicted Class:  1\n",
      "Correctly classified\n",
      "Test Data:  Height(CM)    185\n",
      "Weight(KG)     87\n",
      "Name: 12, dtype: int64 | True Label:  1 | Predicted Class:  1\n",
      "Correctly classified\n",
      "Test Data:  Height(CM)    194\n",
      "Weight(KG)     46\n",
      "Name: 88, dtype: int64 | True Label:  0 | Predicted Class:  0\n",
      "Correctly classified\n",
      "Test Data:  Height(CM)    175\n",
      "Weight(KG)    100\n",
      "Name: 73, dtype: int64 | True Label:  1 | Predicted Class:  1\n",
      "Correctly classified\n"
     ]
    }
   ],
   "source": [
    "for i in range(len(x_test)):\n",
    "    print(\"Test Data: \", x_test.iloc[i], \"| True Label: \",y_test.iloc[i] ,\"| Predicted Class: \", y_pred[i])\n",
    "    if y_test.iloc[i] != y_pred[i]:\n",
    "        print(\"Missclassified\")\n",
    "    else:\n",
    "        print(\"Correctly classified\")"
   ]
  },
  {
   "cell_type": "code",
   "execution_count": 19,
   "metadata": {},
   "outputs": [
    {
     "name": "stdout",
     "output_type": "stream",
     "text": [
      "Predicted Class:  0\n"
     ]
    },
    {
     "name": "stderr",
     "output_type": "stream",
     "text": [
      "/home/pranavavn/Documents/dev/ee19614/lib64/python3.13/site-packages/sklearn/utils/validation.py:2739: UserWarning: X does not have valid feature names, but KNeighborsClassifier was fitted with feature names\n",
      "  warnings.warn(\n"
     ]
    }
   ],
   "source": [
    "H = float(input(\"Enter Height: \")) #195\n",
    "W = float(input(\"Enter Weight: \")) #57\n",
    "predicted_label = knn.predict([[H, W]])\n",
    "print(\"Predicted Class: \", predicted_label[0])"
   ]
  },
  {
   "cell_type": "code",
   "execution_count": 20,
   "metadata": {},
   "outputs": [
    {
     "name": "stderr",
     "output_type": "stream",
     "text": [
      "/home/pranavavn/Documents/dev/ee19614/lib64/python3.13/site-packages/sklearn/utils/validation.py:2739: UserWarning: X does not have valid feature names, but KNeighborsClassifier was fitted with feature names\n",
      "  warnings.warn(\n"
     ]
    },
    {
     "data": {
      "image/png": "[encoded data removed]",
      "text/plain": [
       "<Figure size 640x480 with 1 Axes>"
      ]
     },
     "metadata": {},
     "output_type": "display_data"
    }
   ],
   "source": [
    "knn.fit(x_train, y_train)\n",
    "plot_decision_regions(x_train.values, y_train.values, clf=knn, legend=2)\n",
    "plt.xlabel(\"Height(CM)\")\n",
    "plt.ylabel(\"Weight(KG)\")\n",
    "plt.title(\"KNN Decision Boundary\")\n",
    "plt.show()"
   ]
  },
  {
   "cell_type": "code",
   "execution_count": null,
   "metadata": {},
   "outputs": [],
   "source": []
  }
 ],
 "metadata": {
  "kernelspec": {
   "display_name": "ee19614",
   "language": "python",
   "name": "python3"
  },
  "language_info": {
   "codemirror_mode": {
    "name": "ipython",
    "version": 3
   },
   "file_extension": ".py",
   "mimetype": "text/x-python",
   "name": "python",
   "nbconvert_exporter": "python",
   "pygments_lexer": "ipython3",
   "version": "3.13.2"
  }
 },
 "nbformat": 4,
 "nbformat_minor": 2
}
