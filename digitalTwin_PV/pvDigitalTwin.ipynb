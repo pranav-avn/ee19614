{
 "cells": [
  {
   "cell_type": "markdown",
   "metadata": {},
   "source": [
    "### Analysis and Design of Digital Twin Model for Photovoltaic Sourced Modules"
   ]
  },
  {
   "cell_type": "code",
   "execution_count": 1,
   "metadata": {},
   "outputs": [],
   "source": [
    "class PVModule:\n",
    "    def __init__(self, V_oc, I_sc, V_mp, I_mp):\n",
    "        self.V_oc = V_oc #Open circuit voltage\n",
    "        self.I_sc = I_sc #Short circuit current\n",
    "        self.V_mp = V_mp #Voltage at maximum power point\n",
    "        self.I_mp = I_mp #Current at maximum power point\n",
    "\n",
    "    def output_voltage(self, irradiance, temperature):\n",
    "        '''Calculate the output voltage of the PV Module based on the irradiation and temperature'''\n",
    "        return self.V_oc - (irradiance/1000)*0.1 - (temperature - 25) * 0.05"
   ]
  },
  {
   "cell_type": "code",
   "execution_count": 2,
   "metadata": {},
   "outputs": [],
   "source": [
    "class MPPTController:\n",
    "    def __init__(self, V_ref):\n",
    "        self.V_ref = V_ref\n",
    "\n",
    "    def track_voltage(self, pv_module, irradiance, temperature):\n",
    "        '''Track the desired output voltage using a simple voltage controller'''\n",
    "        V_out = pv_module.output_voltage(irradiance, temperature)\n",
    "        error = self.V_ref - V_out\n",
    "        return error"
   ]
  },
  {
   "cell_type": "code",
   "execution_count": 3,
   "metadata": {},
   "outputs": [],
   "source": [
    "#Sim params\n",
    "V_ref = 36 #Desired output voltage(V)\n",
    "irradiance = 1000 #Irradiance(W/m^2)\n",
    "temperature = 25 #Temperature(C)\n",
    "\n",
    "#create PV module and controller objects\n",
    "pv_module = PVModule(36, 9.3, 29, 7.6)\n",
    "controller = MPPTController(V_ref)"
   ]
  },
  {
   "cell_type": "code",
   "execution_count": 4,
   "metadata": {},
   "outputs": [
    {
     "name": "stdout",
     "output_type": "stream",
     "text": [
      "Error:  0.10000000000000142\n"
     ]
    }
   ],
   "source": [
    "error = controller.track_voltage(pv_module, irradiance, temperature)\n",
    "print(\"Error: \", error)"
   ]
  }
 ],
 "metadata": {
  "kernelspec": {
   "display_name": "ee19614",
   "language": "python",
   "name": "python3"
  },
  "language_info": {
   "codemirror_mode": {
    "name": "ipython",
    "version": 3
   },
   "file_extension": ".py",
   "mimetype": "text/x-python",
   "name": "python",
   "nbconvert_exporter": "python",
   "pygments_lexer": "ipython3",
   "version": "3.13.2"
  }
 },
 "nbformat": 4,
 "nbformat_minor": 2
}
